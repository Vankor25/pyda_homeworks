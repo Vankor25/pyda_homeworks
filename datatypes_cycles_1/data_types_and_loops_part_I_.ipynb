{
 "cells": [
  {
   "cell_type": "code",
   "execution_count": null,
   "metadata": {},
   "outputs": [],
   "source": [
    "# Задание №1\n",
    "\n",
    "word = input('Введите слово латинскими буквами')\n",
    "\n",
    "length = len(word)\n",
    "\n",
    "if length % 2 == 0:\n",
    "    print(word[length // 2 - 1], word[length // 2])\n",
    "if length % 2 != 0:\n",
    "    print(word[length //2])"
   ]
  },
  {
   "cell_type": "code",
   "execution_count": null,
   "metadata": {},
   "outputs": [],
   "source": [
    "# Задание №2\n",
    "\n",
    "number = int(input('Введите число'))\n",
    "sum = 0\n",
    "\n",
    "while number != 0:\n",
    "    sum += number\n",
    "    number = int(input())\n",
    "print(sum)"
   ]
  },
  {
   "cell_type": "code",
   "execution_count": null,
   "metadata": {},
   "outputs": [],
   "source": [
    "# Задание №3\n",
    "\n",
    "boys = ['Peter', 'Alex', 'John', 'Arthur', 'Richard']\n",
    "girls = ['Kate', 'Liza', 'Kira', 'Emma', 'Trisha']\n",
    "\n",
    "boys = sorted(boys)\n",
    "girls = sorted(girls)\n",
    "Tinder_go_to_rest = zip(boys, girls)\n",
    "\n",
    "if len(boys) == len(girls):\n",
    "    print('Amazing choices:')\n",
    "elif len(boys) != len(girls):\n",
    "            print('Attention')   \n",
    "        \n",
    "for pair in Tinder_go_to_rest:\n",
    "    if len(boys) == len(girls):\n",
    "        print(' и '.join(pair))       "
   ]
  },
  {
   "cell_type": "code",
   "execution_count": 90,
   "metadata": {},
   "outputs": [
    {
     "name": "stdout",
     "output_type": "stream",
     "text": [
      "Cредняя температура в странах:\n",
      "Thailand - 23.9 C\n",
      "Germany - 13.8 C\n",
      "Russia - 3.7 C\n",
      "Poland - 12.0 C\n"
     ]
    }
   ],
   "source": [
    "# Задание №4\n",
    "\n",
    "countries_temperature = [\n",
    "['Thailand', [75.2, 77, 78.8, 73.4, 68, 75.2, 77]],\n",
    "['Germany', [57.2, 55.4, 59, 59, 53.6]],\n",
    "['Russia', [35.6, 37.4, 39.2, 41, 42.8, 39.2, 35.6]],\n",
    "['Poland', [50, 50, 53.6, 57.2, 55.4, 55.4]]\n",
    "]\n",
    "\n",
    "avg_fahrenheit = 0\n",
    "avg_celcium = 0\n",
    "print('Cредняя температура в странах:')\n",
    "for country in countries_temperature:\n",
    "    avg_fahrenheit = sum (country[1]) / len(country[1])\n",
    "    avg_celcium = (avg_fahrenheit - 32) / 1.8 \n",
    "    print(country[0], '-', round(avg_celcium, 1), 'C')"
   ]
  }
 ],
 "metadata": {
  "kernelspec": {
   "display_name": "Python 3",
   "language": "python",
   "name": "python3"
  },
  "language_info": {
   "codemirror_mode": {
    "name": "ipython",
    "version": 3
   },
   "file_extension": ".py",
   "mimetype": "text/x-python",
   "name": "python",
   "nbconvert_exporter": "python",
   "pygments_lexer": "ipython3",
   "version": "3.8.5"
  }
 },
 "nbformat": 4,
 "nbformat_minor": 4
}
